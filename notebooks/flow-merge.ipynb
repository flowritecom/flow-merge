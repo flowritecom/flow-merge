{
 "cells": [
  {
   "cell_type": "code",
   "execution_count": 5,
   "metadata": {},
   "outputs": [
    {
     "name": "stderr",
     "output_type": "stream",
     "text": [
      "2024-05-30 12:30:05,231 - flow_merge.lib.logger - INFO - Loading configuration\n",
      "2024-05-30 12:30:05,231 - flow_merge.lib.logger - INFO - Loading configuration\n",
      "2024-05-30 12:30:05,231 - flow_merge.lib.logger - INFO - Loading configuration\n",
      "2024-05-30 12:30:05,231 - flow_merge.lib.logger - INFO - Loading configuration\n",
      "2024-05-30 12:30:05,231 - flow_merge.lib.logger - INFO - Loading configuration\n",
      "2024-05-30 12:30:05,232 - flow_merge.lib.logger - INFO - Loading from dict\n",
      "2024-05-30 12:30:05,232 - flow_merge.lib.logger - INFO - Loading from dict\n",
      "2024-05-30 12:30:05,232 - flow_merge.lib.logger - INFO - Loading from dict\n",
      "2024-05-30 12:30:05,232 - flow_merge.lib.logger - INFO - Loading from dict\n",
      "2024-05-30 12:30:05,232 - flow_merge.lib.logger - INFO - Loading from dict\n",
      "2024-05-30 12:30:05,233 - flow_merge.lib.logger - INFO - Validating configuration\n",
      "2024-05-30 12:30:05,233 - flow_merge.lib.logger - INFO - Validating configuration\n",
      "2024-05-30 12:30:05,233 - flow_merge.lib.logger - INFO - Validating configuration\n",
      "2024-05-30 12:30:05,233 - flow_merge.lib.logger - INFO - Validating configuration\n",
      "2024-05-30 12:30:05,233 - flow_merge.lib.logger - INFO - Validating configuration\n"
     ]
    },
    {
     "name": "stdout",
     "output_type": "stream",
     "text": [
      "<flow_merge.lib.flow_merge.FlowMergeManager object at 0x7ffff5339c30>\n",
      "merge_method validated successfully.\n",
      "directory_settings validated successfully.\n",
      "tokenizer_settings validated successfully.\n",
      "{'merge_method': <coroutine object validate_settings at 0x7ffff17bc040>, 'directory_settings': <coroutine object validate_settings at 0x7ffff17bc0b0>, 'tokenizer_settings': <coroutine object validate_settings at 0x7ffff17bc120>}\n",
      "{'directory_settings': <coroutine object validate_settings at 0x7ffff17bc0b0>,\n",
      " 'merge_method': <coroutine object validate_settings at 0x7ffff17bc040>,\n",
      " 'tokenizer_settings': <coroutine object validate_settings at 0x7ffff17bc120>}\n"
     ]
    }
   ],
   "source": [
    "try:\n",
    "    %load_ext autoreload --quiet\n",
    "except ImportError:\n",
    "    %reload_ext autoreload\n",
    "%autoreload 2\n",
    "\n",
    "from flow_merge.lib.flow_merge import FlowMergeManager\n",
    "from flow_merge.lib.loaders.loader import ConfigLoader\n",
    "from pprint import pprint\n",
    "\n",
    "merge = FlowMergeManager()\n",
    "\n",
    "pprint(merge)\n",
    "merge.register_service('loader', ConfigLoader)\n",
    "\n",
    "logger = merge.get_dependency(\"logger\")\n",
    "\n",
    "data = {\n",
    "    \"method\": \"slerp\",\n",
    "    \"method_global_parameters\": {\n",
    "        \"t\": 0.8,\n",
    "        \"base_model\": \"Qwen/Qwen1.5-0.5B\"\n",
    "    },\n",
    "    \"models\": [\n",
    "        {\"model\": \"Qwen/Qwen1.5-0.5B\"},\n",
    "        {\"model\": \"Qwen/Qwen1.5-0.5B-chat\"}\n",
    "    ],\n",
    "    \"tokenizer\": {\n",
    "        \"mode\": \"base\",\n",
    "        \"interpolation_method\": \"linear\"\n",
    "    }\n",
    "}\n",
    "\n",
    "# Since we are in a Jupyter notebook, we can use await directly\n",
    "validated_data = merge.load(data)\n",
    "\n",
    "pprint(validated_data)"
   ]
  },
  {
   "cell_type": "code",
   "execution_count": null,
   "metadata": {},
   "outputs": [],
   "source": [
    "\n",
    "# ## Use MergeKitLoader and PieceWiseAssembly and ProprietaryEval and S3 Bucket\n",
    "# merge.register_service('loader', MergeKitLoader, {})\n",
    "# merge.register_service('merge', PieceWiseAssembly, {\"param1\": \"value1\", \"param2\": 2})\n",
    "# merge.register_service('eval', ProprietaryEval, {\"param1\": \"eval_value1\", \"param2\": 3})\n",
    "# merge.register_dependency('s3', 'AWSS3Connection')\n",
    "\n",
    "# ## We can hide these if we want defaults, with just\n",
    "# merge.init() # and this registers everything default\n",
    "# # if we want this can be called from the merge.load automatically if it hasn't been initialized, with default loader\n",
    "\n",
    "# ## Start service containers with different env\n",
    "# merge.register_service('loader', ConfigLoader, {}, env=ApplicationConfig())\n",
    "\n",
    "# ## Override the logger with something more specific, maybe to debug for example\n",
    "# my_own_logger = Logger()\n",
    "# merge.register_service('loader', ConfigLoader, {}, logger=my_own_logger)\n",
    "\n",
    "\n",
    "\n",
    "# ## Use MergeKitLoader and PieceWiseAssembly and ProprietaryEval and S3 Bucket\n",
    "# merge.register_service('loader', MergeKitLoader, {})\n",
    "# merge.register_service('merge', PieceWiseAssembly, {\"param1\": \"value1\", \"param2\": 2})\n",
    "# merge.register_service('eval', ProprietaryEval, {\"param1\": \"eval_value1\", \"param2\": 3})\n",
    "# merge.register_dependency('s3', 'AWSS3Connection')\n",
    "\n",
    "# ## We can hide these if we want defaults, with just\n",
    "# merge.init() # and this registers everything default\n",
    "# # if we want this can be called from the merge.load automatically if it hasn't been initialized, with default loader\n",
    "\n",
    "# ## Start service containers with different env\n",
    "# merge.register_service('loader', ConfigLoader, {}, env=ApplicationConfig())\n",
    "\n",
    "# ## Override the logger with something more specific, maybe to debug for example\n",
    "# my_own_logger = Logger()\n",
    "# merge.register_service('loader', ConfigLoader, {}, logger=my_own_logger)"
   ]
  }
 ],
 "metadata": {
  "kernelspec": {
   "display_name": "flow-merge",
   "language": "python",
   "name": "python3"
  },
  "language_info": {
   "codemirror_mode": {
    "name": "ipython",
    "version": 3
   },
   "file_extension": ".py",
   "mimetype": "text/x-python",
   "name": "python",
   "nbconvert_exporter": "python",
   "pygments_lexer": "ipython3",
   "version": "3.10.13"
  }
 },
 "nbformat": 4,
 "nbformat_minor": 2
}
