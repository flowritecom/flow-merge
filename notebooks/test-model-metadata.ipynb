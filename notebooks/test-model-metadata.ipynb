{
 "cells": [
  {
   "cell_type": "code",
   "execution_count": 4,
   "metadata": {},
   "outputs": [
    {
     "data": {
      "text/plain": [
       "[FileMetadata(filename='.gitattributes', sha='11ad7efa24975ee4b0c3c3a38ed18737f0658a5f75a0a96787b576a78a023361', blob_id='a6344aac8c09253b3b630fb776ae94478aa0275b', size=1519, lfs=None),\n",
       " FileMetadata(filename='LICENSE', sha='41c2cf8c272f6fb0080a97cd9d9bd7d4604072b80a0b10e7d65ca26ef5000c0c', blob_id='c5faab3b0ab37a1f8fe7067d963bf30e8735d7e1', size=7281, lfs=None),\n",
       " FileMetadata(filename='README.md', sha='a1f74fb8b65e90381e38aecb1f97f035d58b886a8ba327373ee203cd15074703', blob_id='3459525f3220f8a7fa2222fbee09b34b517c17d1', size=2773, lfs=None),\n",
       " FileMetadata(filename='config.json', sha='fa5ce2577a12b2c41aab208242c3de5bdcc4309d147842ad88040b6d4349fc36', blob_id='7933f98f3efce9098c93c8905d44e0f090fd860b', size=661, lfs=None),\n",
       " FileMetadata(filename='generation_config.json', sha='8c970692323e3ea0e9b8b0a4dca79388d31226e41f83c9fd6014804280ebf6e8', blob_id='cbbb3133034e192527e5321b4c679154e4819ab8', size=138, lfs=None),\n",
       " FileMetadata(filename='merges.txt', sha='599bab54075088774b1733fde865d5bd747cbcc7a547c5bc12610e874e26f5e3', blob_id='20024bfe7c83998e9aeaf98a0cd6a2ce6306c2f0', size=1671839, lfs=None),\n",
       " FileMetadata(filename='model.safetensors', sha='a88bcf41b3fa9a20031b6b598abc11f694e35e0b5684d6e14dbe7e894ebbb080', blob_id='b7d0bc99ada929da4ff0e73bd510c8697db2e702', size=1239173352, lfs=BlobLfsInfo(size=1239173352, sha256='a88bcf41b3fa9a20031b6b598abc11f694e35e0b5684d6e14dbe7e894ebbb080', pointer_size=135)),\n",
       " FileMetadata(filename='tokenizer.json', sha='f7c9b2dba4a296b1aa76c16a34b8225c0c118978400d4bb66bff0902d702f5b8', blob_id='33ea6c72ebb92a237fa2bdf26c5ff16592efcdae', size=7028015, lfs=None),\n",
       " FileMetadata(filename='tokenizer_config.json', sha='80d64fccf954f022eb43b7425eb45a133cbb92c76a5f24d4cea6dbe3d45548d9', blob_id='f4b55f917af273d0dc98b67ec249f6445dd385f5', size=1289, lfs=None),\n",
       " FileMetadata(filename='vocab.json', sha='ca10d7e9fb3ed18575dd1e277a2579c16d108e32f27439684afa0e10b1440910', blob_id='4783fe10ac3adce15ac8f358ef5462739852c569', size=2776833, lfs=None)]"
      ]
     },
     "execution_count": 4,
     "metadata": {},
     "output_type": "execute_result"
    }
   ],
   "source": [
    "try:\n",
    "    %load_ext autoreload --quiet\n",
    "except ImportError:\n",
    "    %reload_ext autoreload \n",
    "%autoreload 2\n",
    "\n",
    "\n",
    "from flow_merge.lib.model_metadata import ModelMetadataService\n",
    "\n",
    "CHUNK_SIZE = 64 * 1024  # 64KB\n",
    "\n",
    "path_or_id = \"Qwen/Qwen1.5-0.5B\"\n",
    "\n",
    "ms = ModelMetadataService().load_model_info(path_or_id)\n",
    "\n",
    "ms.file_metadata_list\n"
   ]
  },
  {
   "cell_type": "code",
   "execution_count": null,
   "metadata": {},
   "outputs": [],
   "source": []
  }
 ],
 "metadata": {
  "kernelspec": {
   "display_name": "flow-merge",
   "language": "python",
   "name": "python3"
  },
  "language_info": {
   "codemirror_mode": {
    "name": "ipython",
    "version": 3
   },
   "file_extension": ".py",
   "mimetype": "text/x-python",
   "name": "python",
   "nbconvert_exporter": "python",
   "pygments_lexer": "ipython3",
   "version": "3.10.13"
  }
 },
 "nbformat": 4,
 "nbformat_minor": 2
}
