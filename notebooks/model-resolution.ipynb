{
 "cells": [
  {
   "cell_type": "code",
   "execution_count": 5,
   "metadata": {},
   "outputs": [
    {
     "name": "stdout",
     "output_type": "stream",
     "text": [
      "base_model='model_1' models={'model_2': ['model.norm.weight', 'model.layers.0.mlp.gate_proj.weight']}\n"
     ]
    }
   ],
   "source": [
    "from flow_merge.lib.planners.resolver import extract_models_by_layers\n",
    "\n",
    "# Example usage\n",
    "slices = [\n",
    "    {'index': 0, 'slice': {'merge_method': 'passthrough', 'sources': [{'base_model': True, 'layer': 'model.embed_tokens.weight', 'model': 'model_1'}]}},\n",
    "    {'index': 7, 'slice': {'merge_method': 'passthrough', 'sources': [{'base_model': True, 'layer': 'model.layers.0.mlp.gate_proj.weight', 'model': 'model_1'}, {'layer': 'model.layers.0.mlp.gate_proj.weight', 'model': 'model_2'}]}},\n",
    "    {'index': 28, 'slice': {'merge_method': 'passthrough', 'sources': [{'base_model': True, 'layer': 'model.norm.weight', 'model': 'model_1'}, {'layer': 'model.norm.weight', 'model': 'model_2'}]}},\n",
    "    # Add more entries as needed\n",
    "]\n",
    "\n",
    "result = extract_models_by_layers(slices)\n",
    "print(result)"
   ]
  },
  {
   "cell_type": "code",
   "execution_count": 3,
   "metadata": {},
   "outputs": [
    {
     "name": "stdout",
     "output_type": "stream",
     "text": [
      "Base Model: model_1\n"
     ]
    }
   ],
   "source": [
    "from flow_merge.lib.planners.resolver import get_base_model\n",
    "\n",
    "### Example Usage:\n",
    "slices = [\n",
    "    {'index': 0, 'slice': {'merge_method': 'passthrough', 'sources': [{'base_model': True, 'layer': 'model.embed_tokens.weight', 'model': 'model_1'}]}},\n",
    "    {'index': 7, 'slice': {'merge_method': 'passthrough', 'sources': [{'base_model': True, 'layer': 'model.layers.0.mlp.gate_proj.weight', 'model': 'model_1'}, {'layer': 'model.layers.0.mlp.gate_proj.weight', 'model': 'model_2'}]}},\n",
    "    {'index': 28, 'slice': {'merge_method': 'passthrough', 'sources': [{'base_model': True, 'layer': 'model.norm.weight', 'model': 'model_1'}, {'layer': 'model.norm.weight', 'model': 'model_2'}]}},\n",
    "    # Add more entries as needed\n",
    "]\n",
    "\n",
    "base_model = get_base_model(slices)\n",
    "print(f\"Base Model: {base_model}\")"
   ]
  }
 ],
 "metadata": {
  "kernelspec": {
   "display_name": "Python 3",
   "language": "python",
   "name": "python3"
  },
  "language_info": {
   "codemirror_mode": {
    "name": "ipython",
    "version": 3
   },
   "file_extension": ".py",
   "mimetype": "text/x-python",
   "name": "python",
   "nbconvert_exporter": "python",
   "pygments_lexer": "ipython3",
   "version": "3.11.9"
  }
 },
 "nbformat": 4,
 "nbformat_minor": 2
}
