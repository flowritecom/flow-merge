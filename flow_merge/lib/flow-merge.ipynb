{
 "cells": [
  {
   "cell_type": "code",
   "execution_count": null,
   "metadata": {},
   "outputs": [],
   "source": [
    "from flow_merge import FlowMergeManager, FlowMerge, ConfigLoader\n",
    "from config import ApplicationConfig\n",
    "from flow_merge.lib.logger import Logger\n",
    "\n",
    "\n",
    "merge = FlowMergeManager()\n",
    "\n",
    "merge.register_service('loader', ConfigLoader, {})\n",
    "merge.register_service('merge', <MergeObj>, {\"param1\": \"value1\", \"param2\": 2})\n",
    "merge.register_service('eval', <EvalObj>, {\"param1\": \"eval_value1\", \"param2\": 3})\n",
    "\n",
    "merge.register_dependency('db', 'DatabaseConnection')\n",
    "\n",
    "merge.load()\n",
    "merge.run()\n",
    "merge.eval()\n",
    "\n",
    "db = merge.get_dependency('db')\n",
    "\n",
    "\n",
    "## Use MergeKitLoader and PieceWiseAssembly and ProprietaryEval and S3 Bucket\n",
    "merge.register_service('loader', MergeKitLoader, {})\n",
    "merge.register_service('merge', PieceWiseAssembly, {\"param1\": \"value1\", \"param2\": 2})\n",
    "merge.register_service('eval', ProprietaryEval, {\"param1\": \"eval_value1\", \"param2\": 3})\n",
    "merge.register_dependency('s3', 'AWSS3Connection')\n",
    "\n",
    "merge.load()\n",
    "merge.run()\n",
    "merge.eval()\n",
    "\n",
    "\n",
    "## We can hide these if we want defaults, with just\n",
    "merge.init() # and this registers everything default\n",
    "# if we want this can be called from the merge.load automatically if it hasn't been initialized, with default loader\n",
    "\n",
    "## Start service containers with different env\n",
    "merge.register_service('loader', ConfigLoader, {}, env=ApplicationConfig())\n",
    "\n",
    "## Override the logger with something more specific, maybe to debug for example\n",
    "my_own_logger = Logger()\n",
    "merge.register_service('loader', ConfigLoader, {}, logger=my_own_logger)\n"
   ]
  }
 ],
 "metadata": {
  "language_info": {
   "name": "python"
  }
 },
 "nbformat": 4,
 "nbformat_minor": 2
}
