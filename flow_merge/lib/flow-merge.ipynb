{
 "cells": [
  {
   "cell_type": "code",
   "execution_count": 1,
   "metadata": {},
   "outputs": [
    {
     "name": "stderr",
     "output_type": "stream",
     "text": [
      "2024-05-29 20:34:27,529 - logger - INFO - Loading configuration\n",
      "2024-05-29 20:34:27,530 - logger - INFO - Loading from dict\n"
     ]
    },
    {
     "name": "stdout",
     "output_type": "stream",
     "text": [
      "<flow_merge.FlowMergeManager object at 0x7ffff49cde40>\n"
     ]
    },
    {
     "data": {
      "text/plain": [
       "{'key': 'value'}"
      ]
     },
     "execution_count": 1,
     "metadata": {},
     "output_type": "execute_result"
    }
   ],
   "source": [
    "from flow_merge import FlowMergeManager, ConfigLoader\n",
    "from pprint import pprint\n",
    "\n",
    "merge = FlowMergeManager()\n",
    "\n",
    "\n",
    "\n",
    "pprint(merge)\n",
    "merge.register_service('loader', ConfigLoader)\n",
    "\n",
    "logger = merge.get_dependency(\"logger\")\n",
    "\n",
    "dummy_config = {\"key\": \"value\"}\n",
    "\n",
    "merge.load(dummy_config)\n",
    "\n",
    "\n",
    "# merge.register_service('merge', <MergeObj>, {\"param1\": \"value1\", \"param2\": 2})\n",
    "# merge.register_service('eval', <EvalObj>, {\"param1\": \"eval_value1\", \"param2\": 3})\n",
    "\n",
    "# merge.register_dependency('db', 'DatabaseConnection')\n",
    "\n",
    "# merge.load()\n",
    "# merge.run()\n",
    "# merge.eval()\n",
    "\n",
    "# db = merge.get_dependency('db')\n",
    "\n",
    "\n",
    "# ## Use MergeKitLoader and PieceWiseAssembly and ProprietaryEval and S3 Bucket\n",
    "# merge.register_service('loader', MergeKitLoader, {})\n",
    "# merge.register_service('merge', PieceWiseAssembly, {\"param1\": \"value1\", \"param2\": 2})\n",
    "# merge.register_service('eval', ProprietaryEval, {\"param1\": \"eval_value1\", \"param2\": 3})\n",
    "# merge.register_dependency('s3', 'AWSS3Connection')\n",
    "\n",
    "# merge.load()\n",
    "# merge.run()\n",
    "# merge.eval()\n",
    "\n",
    "\n",
    "# ## We can hide these if we want defaults, with just\n",
    "# merge.init() # and this registers everything default\n",
    "# # if we want this can be called from the merge.load automatically if it hasn't been initialized, with default loader\n",
    "\n",
    "# ## Start service containers with different env\n",
    "# merge.register_service('loader', ConfigLoader, {}, env=ApplicationConfig())\n",
    "\n",
    "# ## Override the logger with something more specific, maybe to debug for example\n",
    "# my_own_logger = Logger()\n",
    "# merge.register_service('loader', ConfigLoader, {}, logger=my_own_logger)\n"
   ]
  }
 ],
 "metadata": {
  "kernelspec": {
   "display_name": "flow-merge",
   "language": "python",
   "name": "python3"
  },
  "language_info": {
   "codemirror_mode": {
    "name": "ipython",
    "version": 3
   },
   "file_extension": ".py",
   "mimetype": "text/x-python",
   "name": "python",
   "nbconvert_exporter": "python",
   "pygments_lexer": "ipython3",
   "version": "3.10.13"
  }
 },
 "nbformat": 4,
 "nbformat_minor": 2
}
